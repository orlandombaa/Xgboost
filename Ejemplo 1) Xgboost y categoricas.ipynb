{
 "cells": [
  {
   "cell_type": "markdown",
   "source": [
    "# Xgboost y variables categóricas \n",
    "\n",
    "Fuente: https://forecastegy.com/posts/xgboost-categorical-variables/\n",
    "\n",
    "En este ejemplo generamos un modelo de Xgboost que integra variables categoricas, veremos como tratarlas para integrarlas correctamente al modelo"
   ],
   "metadata": {
    "collapsed": false
   },
   "id": "3a6867a7e3bd03a9"
  },
  {
   "cell_type": "markdown",
   "source": [
    "## 1) Introducción \n",
    "Trabajar con variables categoricas puede ser algo complicado. Xgboost como todos los modelos de ML al final tienen que trabajar con datos numéricos, por lo que tiene que haber un punto en el que se haga una conversión de tus variables vategoricas a números. \n",
    "\n",
    "Por esta razón, tienes que encontrar algúna manera de poder tratar dichas varibles. Esto se vuelve complicado y de alto consumo de tiempo si tienes muchas variables categoricas.  \n",
    "\n",
    "**Además algunos métodos de encocing pueden aumentar significativamente la dimensionalidad del dataset, haciendo que el problema crezca rápidamente de tamaño y se haga altamente intensivo en memoria**\n",
    "\n",
    "Entonces como podemos \n"
   ],
   "metadata": {
    "collapsed": false
   },
   "id": "bd9f2c7e229f7f4e"
  },
  {
   "cell_type": "code",
   "execution_count": 1,
   "outputs": [
    {
     "data": {
      "text/plain": "2"
     },
     "execution_count": 1,
     "metadata": {},
     "output_type": "execute_result"
    }
   ],
   "source": [],
   "metadata": {
    "collapsed": false,
    "ExecuteTime": {
     "end_time": "2023-12-12T18:31:47.434945Z",
     "start_time": "2023-12-12T18:31:47.429495Z"
    }
   },
   "id": "7eded43c834435c8"
  },
  {
   "cell_type": "code",
   "execution_count": null,
   "outputs": [],
   "source": [],
   "metadata": {
    "collapsed": false
   },
   "id": "d43ffb341e27e7b3"
  }
 ],
 "metadata": {
  "kernelspec": {
   "display_name": "Python 3",
   "language": "python",
   "name": "python3"
  },
  "language_info": {
   "codemirror_mode": {
    "name": "ipython",
    "version": 2
   },
   "file_extension": ".py",
   "mimetype": "text/x-python",
   "name": "python",
   "nbconvert_exporter": "python",
   "pygments_lexer": "ipython2",
   "version": "2.7.6"
  }
 },
 "nbformat": 4,
 "nbformat_minor": 5
}
