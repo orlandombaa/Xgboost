{
 "cells": [
  {
   "cell_type": "markdown",
   "source": [
    "# Xgboost y variables categóricas \n",
    "\n",
    "Fuente: https://forecastegy.com/posts/xgboost-categorical-variables/\n",
    "\n",
    "En este ejemplo generamos un modelo de Xgboost que integra variables categoricas, veremos como tratarlas para integrarlas correctamente al modelo"
   ],
   "metadata": {
    "collapsed": false
   },
   "id": "3a6867a7e3bd03a9"
  },
  {
   "cell_type": "markdown",
   "source": [
    "## 1) Introducción \n",
    "Trabajar con variables categoricas puede ser algo complicado. Xgboost como todos los modelos de ML al final tienen que trabajar con datos numéricos, por lo que en algún momento debe de haber una tranformación de las variables categóricas a una representación numérica. Esto se vuelve complicado si tienes muchas variables categoricas. Un proceso incorrecto de tranformación de variables categoricas puede generar errores en el modelo. \n",
    "\n",
    "**Además algunos métodos de encocing pueden aumentar significativamente la dimensionalidad del dataset, haciendo que el problema crezca rápidamente de tamaño y se haga altamente intensivo en memoria**\n",
    "\n",
    "En este nootebook se va a abordar este problema.......   \n",
    "puede ser utilizado tanto para problemas de regresión como de clasificación\n"
   ],
   "metadata": {
    "collapsed": false
   },
   "id": "bd9f2c7e229f7f4e"
  },
  {
   "cell_type": "markdown",
   "source": [
    "## 2) Native Encoding Using The XGBoost Scikit-learn Interface\n",
    "Desde la versión 1.5 de Xgboost, la librería soporta el uso de variables categoricas directamente en el algoritmo. \n",
    "\n",
    "Para usar esta funcionalidad se debe de poner como True el parámetro de **enbale_categorica** en nuestro modelo. Sin embargo, es muy importante que se definanda cuales son las variables categoricas en el pandas DF. \n",
    "\n",
    "A continuación se muestra un ejemplo: "
   ],
   "metadata": {
    "collapsed": false
   },
   "id": "119419c66f00c20"
  },
  {
   "cell_type": "markdown",
   "source": [
    "### 2.1) Lectura e inspección de los datos "
   ],
   "metadata": {
    "collapsed": false
   },
   "id": "505d3805625d0c79"
  },
  {
   "cell_type": "code",
   "execution_count": 5,
   "outputs": [
    {
     "data": {
      "text/plain": "age                int64\nworkclass         object\nfnlwgt             int64\neducation         object\neducation.num      int64\nmarital.status    object\noccupation        object\nrelationship      object\nrace              object\nsex               object\ncapital.gain       int64\ncapital.loss       int64\nhours.per.week     int64\nnative.country    object\nincome            object\ndtype: object"
     },
     "execution_count": 5,
     "metadata": {},
     "output_type": "execute_result"
    }
   ],
   "source": [
    "import pandas as pd \n",
    "\n",
    "# 1) Lectura del dataset \n",
    "adult_dataset = pd.read_csv(filepath_or_buffer=\"data/adult.csv\")\n",
    "\n",
    "# 2) Creamos una lista con las variables categoricas \n",
    "cat_cols = ['marital.status', 'occupation', 'relationship', 'race', 'sex', 'native.country', 'workclass', 'education']\n",
    "\n",
    "# 3) Inspección del tipo de variables \n",
    "adult_dataset.dtypes "
   ],
   "metadata": {
    "collapsed": false,
    "ExecuteTime": {
     "end_time": "2023-12-12T19:32:36.315516Z",
     "start_time": "2023-12-12T19:32:36.261040Z"
    }
   },
   "id": "d43ffb341e27e7b3"
  },
  {
   "cell_type": "markdown",
   "source": [
    "Como se puede observar, el tipo de variables que tengo actualmente  son int (enteros) y objetos (en el contxto de pandas esto lo podemos pensar como un tipo string"
   ],
   "metadata": {
    "collapsed": false
   },
   "id": "bad242b9bcceb2fc"
  },
  {
   "cell_type": "markdown",
   "source": [
    "### 2.2) Tranformación del tipo de variables \n"
   ],
   "metadata": {
    "collapsed": false
   },
   "id": "917c61587f690ed9"
  },
  {
   "cell_type": "code",
   "execution_count": 6,
   "outputs": [
    {
     "data": {
      "text/plain": "age                  int64\nworkclass         category\nfnlwgt               int64\neducation         category\neducation.num        int64\nmarital.status    category\noccupation        category\nrelationship      category\nrace              category\nsex               category\ncapital.gain         int64\ncapital.loss         int64\nhours.per.week       int64\nnative.country    category\nincome              object\ndtype: object"
     },
     "execution_count": 6,
     "metadata": {},
     "output_type": "execute_result"
    }
   ],
   "source": [
    "# 1) Inció de bucle \n",
    "for col in cat_cols:\n",
    "    adult_dataset[col] = adult_dataset[col].astype('category')\n",
    "    \n",
    "# 2) Inspección del pandas DF \n",
    "adult_dataset.dtypes # Ahora vemos que las variables son tipo categoricas "
   ],
   "metadata": {
    "collapsed": false,
    "ExecuteTime": {
     "end_time": "2023-12-12T19:34:18.507391Z",
     "start_time": "2023-12-12T19:34:18.486356Z"
    }
   },
   "id": "b264d03f1ae89788"
  },
  {
   "cell_type": "markdown",
   "source": [
    "Una vez que tus variables categoricas ya están convertidas a tipo categorico en tu pandas DF, podemos ingresar directamente el dataset al XGbost utilizando el parametro de **enable_categorical=True**. \n",
    "\n",
    "\n",
    "Cuando utilizas `enable_categorical=True` en XGBoost y pasas un DataFrame de Pandas con columnas categóricas transformadas a tipo \"category\" usando `.astype(\"category\")`, estás indicando a XGBoost que trate estas columnas de forma especial como características categóricas en lugar de características numéricas.\n",
    "\n",
    "El parámetro `enable_categorical` fue introducido en XGBoost 1.3.0 y permite al modelo manejar directamente las variables categóricas sin necesidad de preprocesarlas a través de métodos como One-Hot Encoding o Label Encoding. Esto tiene varias ventajas:\n",
    "\n",
    "1. **Mejor Uso de la Memoria**: El manejo interno de categorías puede ser más eficiente en memoria que la creación de columnas adicionales a través de One-Hot Encoding, especialmente cuando las variables categóricas tienen muchos niveles.\n",
    "\n",
    "2. **Rendimiento Potencialmente Mejorado**: Al preservar la naturaleza categórica de la característica, XGBoost puede hacer divisiones que son más significativas para las categorías en lugar de tratarlas como valores numéricos arbitrarios.\n",
    "\n",
    "3. **Menor Complejidad de Preprocesamiento**: No es necesario convertir las variables categóricas en números enteros o binarizarlas, lo que simplifica el flujo de trabajo de preprocesamiento de datos.\n",
    "\n",
    "Cuando XGBoost se encuentra con una característica de tipo \"category\" y `enable_categorical=True`, el algoritmo utiliza un método de codificación especial interno para las variables categóricas, que se basa en la técnica de \"one-hot-encoding\" pero optimizada para trabajar dentro del algoritmo de árboles de decisión de XGBoost. \n"
   ],
   "metadata": {
    "collapsed": false
   },
   "id": "ac927be3e8a8c66f"
  },
  {
   "cell_type": "markdown",
   "source": [
    "### 2.3) Split de datos \n",
    "Generaremos un training y un testing DF  "
   ],
   "metadata": {
    "collapsed": false
   },
   "id": "7ebb39380f8b047"
  },
  {
   "cell_type": "markdown",
   "source": [
    "**Generamos nuestro y & X**"
   ],
   "metadata": {
    "collapsed": false
   },
   "id": "c2a5698ecaf9d1b6"
  },
  {
   "cell_type": "code",
   "execution_count": 13,
   "outputs": [
    {
     "data": {
      "text/plain": "0        0\n1        0\n2        0\n3        0\n4        0\n        ..\n32556    0\n32557    0\n32558    1\n32559    0\n32560    0\nName: income, Length: 32561, dtype: int64"
     },
     "execution_count": 13,
     "metadata": {},
     "output_type": "execute_result"
    }
   ],
   "source": [
    "# Split into X and y, drop the target variable from X and convert y to binary\n",
    "y = adult_dataset['income'].map(arg={'<=50K': 0, '>50K': 1}) # La funcion map sustituye valores, en este caso estamos sustituyendo los valores de <=50K por 0 y los valores de >50K por 1. \n",
    "\n",
    "X = adult_dataset.drop('income', axis=1)\n",
    "y "
   ],
   "metadata": {
    "collapsed": false,
    "ExecuteTime": {
     "end_time": "2023-12-12T20:22:48.214404Z",
     "start_time": "2023-12-12T20:22:48.209584Z"
    }
   },
   "id": "fae3692379b3ff53"
  },
  {
   "cell_type": "code",
   "execution_count": 14,
   "outputs": [
    {
     "data": {
      "text/plain": "       age    workclass  fnlwgt     education  education.num  \\\n5514    26      Private  256263       HS-grad              9   \n19777   24      Private  170277       HS-grad              9   \n10781   36      Private   75826     Bachelors             13   \n32240   22    State-gov   24395  Some-college             10   \n9876    31    Local-gov  356689     Bachelors             13   \n...    ...          ...     ...           ...            ...   \n29802   25      Private  410240       HS-grad              9   \n5390    51      Private  146767     Assoc-voc             11   \n860     55  Federal-gov  238192       HS-grad              9   \n15795   41      Private  154076  Some-college             10   \n23654   22      Private  162667       HS-grad              9   \n\n           marital.status         occupation   relationship   race     sex  \\\n5514        Never-married       Craft-repair  Not-in-family  White    Male   \n19777       Never-married      Other-service  Not-in-family  White  Female   \n10781            Divorced       Adm-clerical      Unmarried  White  Female   \n32240  Married-civ-spouse       Adm-clerical           Wife  White  Female   \n9876   Married-civ-spouse     Prof-specialty        Husband  White    Male   \n...                   ...                ...            ...    ...     ...   \n29802       Never-married       Craft-repair      Own-child  White    Male   \n5390   Married-civ-spouse     Prof-specialty        Husband  White    Male   \n860    Married-civ-spouse       Tech-support        Husband  White    Male   \n15795  Married-civ-spouse       Adm-clerical        Husband  White    Male   \n23654       Never-married  Handlers-cleaners      Own-child  White    Male   \n\n       capital.gain  capital.loss  hours.per.week native.country  \n5514              0             0              25  United-States  \n19777             0             0              35  United-States  \n10781             0             0              40  United-States  \n32240             0             0              20  United-States  \n9876              0             0              40  United-States  \n...             ...           ...             ...            ...  \n29802             0             0              40  United-States  \n5390              0             0              40  United-States  \n860               0          1887              40  United-States  \n15795             0             0              50  United-States  \n23654             0             0              50       Portugal  \n\n[26048 rows x 14 columns]",
      "text/html": "<div>\n<style scoped>\n    .dataframe tbody tr th:only-of-type {\n        vertical-align: middle;\n    }\n\n    .dataframe tbody tr th {\n        vertical-align: top;\n    }\n\n    .dataframe thead th {\n        text-align: right;\n    }\n</style>\n<table border=\"1\" class=\"dataframe\">\n  <thead>\n    <tr style=\"text-align: right;\">\n      <th></th>\n      <th>age</th>\n      <th>workclass</th>\n      <th>fnlwgt</th>\n      <th>education</th>\n      <th>education.num</th>\n      <th>marital.status</th>\n      <th>occupation</th>\n      <th>relationship</th>\n      <th>race</th>\n      <th>sex</th>\n      <th>capital.gain</th>\n      <th>capital.loss</th>\n      <th>hours.per.week</th>\n      <th>native.country</th>\n    </tr>\n  </thead>\n  <tbody>\n    <tr>\n      <th>5514</th>\n      <td>26</td>\n      <td>Private</td>\n      <td>256263</td>\n      <td>HS-grad</td>\n      <td>9</td>\n      <td>Never-married</td>\n      <td>Craft-repair</td>\n      <td>Not-in-family</td>\n      <td>White</td>\n      <td>Male</td>\n      <td>0</td>\n      <td>0</td>\n      <td>25</td>\n      <td>United-States</td>\n    </tr>\n    <tr>\n      <th>19777</th>\n      <td>24</td>\n      <td>Private</td>\n      <td>170277</td>\n      <td>HS-grad</td>\n      <td>9</td>\n      <td>Never-married</td>\n      <td>Other-service</td>\n      <td>Not-in-family</td>\n      <td>White</td>\n      <td>Female</td>\n      <td>0</td>\n      <td>0</td>\n      <td>35</td>\n      <td>United-States</td>\n    </tr>\n    <tr>\n      <th>10781</th>\n      <td>36</td>\n      <td>Private</td>\n      <td>75826</td>\n      <td>Bachelors</td>\n      <td>13</td>\n      <td>Divorced</td>\n      <td>Adm-clerical</td>\n      <td>Unmarried</td>\n      <td>White</td>\n      <td>Female</td>\n      <td>0</td>\n      <td>0</td>\n      <td>40</td>\n      <td>United-States</td>\n    </tr>\n    <tr>\n      <th>32240</th>\n      <td>22</td>\n      <td>State-gov</td>\n      <td>24395</td>\n      <td>Some-college</td>\n      <td>10</td>\n      <td>Married-civ-spouse</td>\n      <td>Adm-clerical</td>\n      <td>Wife</td>\n      <td>White</td>\n      <td>Female</td>\n      <td>0</td>\n      <td>0</td>\n      <td>20</td>\n      <td>United-States</td>\n    </tr>\n    <tr>\n      <th>9876</th>\n      <td>31</td>\n      <td>Local-gov</td>\n      <td>356689</td>\n      <td>Bachelors</td>\n      <td>13</td>\n      <td>Married-civ-spouse</td>\n      <td>Prof-specialty</td>\n      <td>Husband</td>\n      <td>White</td>\n      <td>Male</td>\n      <td>0</td>\n      <td>0</td>\n      <td>40</td>\n      <td>United-States</td>\n    </tr>\n    <tr>\n      <th>...</th>\n      <td>...</td>\n      <td>...</td>\n      <td>...</td>\n      <td>...</td>\n      <td>...</td>\n      <td>...</td>\n      <td>...</td>\n      <td>...</td>\n      <td>...</td>\n      <td>...</td>\n      <td>...</td>\n      <td>...</td>\n      <td>...</td>\n      <td>...</td>\n    </tr>\n    <tr>\n      <th>29802</th>\n      <td>25</td>\n      <td>Private</td>\n      <td>410240</td>\n      <td>HS-grad</td>\n      <td>9</td>\n      <td>Never-married</td>\n      <td>Craft-repair</td>\n      <td>Own-child</td>\n      <td>White</td>\n      <td>Male</td>\n      <td>0</td>\n      <td>0</td>\n      <td>40</td>\n      <td>United-States</td>\n    </tr>\n    <tr>\n      <th>5390</th>\n      <td>51</td>\n      <td>Private</td>\n      <td>146767</td>\n      <td>Assoc-voc</td>\n      <td>11</td>\n      <td>Married-civ-spouse</td>\n      <td>Prof-specialty</td>\n      <td>Husband</td>\n      <td>White</td>\n      <td>Male</td>\n      <td>0</td>\n      <td>0</td>\n      <td>40</td>\n      <td>United-States</td>\n    </tr>\n    <tr>\n      <th>860</th>\n      <td>55</td>\n      <td>Federal-gov</td>\n      <td>238192</td>\n      <td>HS-grad</td>\n      <td>9</td>\n      <td>Married-civ-spouse</td>\n      <td>Tech-support</td>\n      <td>Husband</td>\n      <td>White</td>\n      <td>Male</td>\n      <td>0</td>\n      <td>1887</td>\n      <td>40</td>\n      <td>United-States</td>\n    </tr>\n    <tr>\n      <th>15795</th>\n      <td>41</td>\n      <td>Private</td>\n      <td>154076</td>\n      <td>Some-college</td>\n      <td>10</td>\n      <td>Married-civ-spouse</td>\n      <td>Adm-clerical</td>\n      <td>Husband</td>\n      <td>White</td>\n      <td>Male</td>\n      <td>0</td>\n      <td>0</td>\n      <td>50</td>\n      <td>United-States</td>\n    </tr>\n    <tr>\n      <th>23654</th>\n      <td>22</td>\n      <td>Private</td>\n      <td>162667</td>\n      <td>HS-grad</td>\n      <td>9</td>\n      <td>Never-married</td>\n      <td>Handlers-cleaners</td>\n      <td>Own-child</td>\n      <td>White</td>\n      <td>Male</td>\n      <td>0</td>\n      <td>0</td>\n      <td>50</td>\n      <td>Portugal</td>\n    </tr>\n  </tbody>\n</table>\n<p>26048 rows × 14 columns</p>\n</div>"
     },
     "execution_count": 14,
     "metadata": {},
     "output_type": "execute_result"
    }
   ],
   "source": [
    "from sklearn.model_selection import train_test_split\n",
    "\n",
    "X_train, X_test, y_train, y_test = train_test_split(X, y, test_size=0.2, random_state=42)\n",
    "X_train"
   ],
   "metadata": {
    "collapsed": false,
    "ExecuteTime": {
     "end_time": "2023-12-12T20:23:22.573220Z",
     "start_time": "2023-12-12T20:23:19.640952Z"
    }
   },
   "id": "67cc29e0eb8d3e0c"
  },
  {
   "cell_type": "markdown",
   "source": [
    "### 2.4) Entrenamiento "
   ],
   "metadata": {
    "collapsed": false
   },
   "id": "e44d99a55414a0d7"
  },
  {
   "cell_type": "code",
   "execution_count": 17,
   "outputs": [
    {
     "data": {
      "text/plain": "XGBClassifier(base_score=None, booster=None, callbacks=None,\n              colsample_bylevel=None, colsample_bynode=None,\n              colsample_bytree=None, device=None, early_stopping_rounds=None,\n              enable_categorical=True, eval_metric=None, feature_types=None,\n              gamma=None, grow_policy=None, importance_type=None,\n              interaction_constraints=None, learning_rate=None, max_bin=None,\n              max_cat_threshold=None, max_cat_to_onehot=None,\n              max_delta_step=None, max_depth=None, max_leaves=None,\n              min_child_weight=None, missing=nan, monotone_constraints=None,\n              multi_strategy=None, n_estimators=None, n_jobs=None,\n              num_parallel_tree=None, random_state=None, ...)",
      "text/html": "<style>#sk-container-id-1 {color: black;}#sk-container-id-1 pre{padding: 0;}#sk-container-id-1 div.sk-toggleable {background-color: white;}#sk-container-id-1 label.sk-toggleable__label {cursor: pointer;display: block;width: 100%;margin-bottom: 0;padding: 0.3em;box-sizing: border-box;text-align: center;}#sk-container-id-1 label.sk-toggleable__label-arrow:before {content: \"▸\";float: left;margin-right: 0.25em;color: #696969;}#sk-container-id-1 label.sk-toggleable__label-arrow:hover:before {color: black;}#sk-container-id-1 div.sk-estimator:hover label.sk-toggleable__label-arrow:before {color: black;}#sk-container-id-1 div.sk-toggleable__content {max-height: 0;max-width: 0;overflow: hidden;text-align: left;background-color: #f0f8ff;}#sk-container-id-1 div.sk-toggleable__content pre {margin: 0.2em;color: black;border-radius: 0.25em;background-color: #f0f8ff;}#sk-container-id-1 input.sk-toggleable__control:checked~div.sk-toggleable__content {max-height: 200px;max-width: 100%;overflow: auto;}#sk-container-id-1 input.sk-toggleable__control:checked~label.sk-toggleable__label-arrow:before {content: \"▾\";}#sk-container-id-1 div.sk-estimator input.sk-toggleable__control:checked~label.sk-toggleable__label {background-color: #d4ebff;}#sk-container-id-1 div.sk-label input.sk-toggleable__control:checked~label.sk-toggleable__label {background-color: #d4ebff;}#sk-container-id-1 input.sk-hidden--visually {border: 0;clip: rect(1px 1px 1px 1px);clip: rect(1px, 1px, 1px, 1px);height: 1px;margin: -1px;overflow: hidden;padding: 0;position: absolute;width: 1px;}#sk-container-id-1 div.sk-estimator {font-family: monospace;background-color: #f0f8ff;border: 1px dotted black;border-radius: 0.25em;box-sizing: border-box;margin-bottom: 0.5em;}#sk-container-id-1 div.sk-estimator:hover {background-color: #d4ebff;}#sk-container-id-1 div.sk-parallel-item::after {content: \"\";width: 100%;border-bottom: 1px solid gray;flex-grow: 1;}#sk-container-id-1 div.sk-label:hover label.sk-toggleable__label {background-color: #d4ebff;}#sk-container-id-1 div.sk-serial::before {content: \"\";position: absolute;border-left: 1px solid gray;box-sizing: border-box;top: 0;bottom: 0;left: 50%;z-index: 0;}#sk-container-id-1 div.sk-serial {display: flex;flex-direction: column;align-items: center;background-color: white;padding-right: 0.2em;padding-left: 0.2em;position: relative;}#sk-container-id-1 div.sk-item {position: relative;z-index: 1;}#sk-container-id-1 div.sk-parallel {display: flex;align-items: stretch;justify-content: center;background-color: white;position: relative;}#sk-container-id-1 div.sk-item::before, #sk-container-id-1 div.sk-parallel-item::before {content: \"\";position: absolute;border-left: 1px solid gray;box-sizing: border-box;top: 0;bottom: 0;left: 50%;z-index: -1;}#sk-container-id-1 div.sk-parallel-item {display: flex;flex-direction: column;z-index: 1;position: relative;background-color: white;}#sk-container-id-1 div.sk-parallel-item:first-child::after {align-self: flex-end;width: 50%;}#sk-container-id-1 div.sk-parallel-item:last-child::after {align-self: flex-start;width: 50%;}#sk-container-id-1 div.sk-parallel-item:only-child::after {width: 0;}#sk-container-id-1 div.sk-dashed-wrapped {border: 1px dashed gray;margin: 0 0.4em 0.5em 0.4em;box-sizing: border-box;padding-bottom: 0.4em;background-color: white;}#sk-container-id-1 div.sk-label label {font-family: monospace;font-weight: bold;display: inline-block;line-height: 1.2em;}#sk-container-id-1 div.sk-label-container {text-align: center;}#sk-container-id-1 div.sk-container {/* jupyter's `normalize.less` sets `[hidden] { display: none; }` but bootstrap.min.css set `[hidden] { display: none !important; }` so we also need the `!important` here to be able to override the default hidden behavior on the sphinx rendered scikit-learn.org. See: https://github.com/scikit-learn/scikit-learn/issues/21755 */display: inline-block !important;position: relative;}#sk-container-id-1 div.sk-text-repr-fallback {display: none;}</style><div id=\"sk-container-id-1\" class=\"sk-top-container\"><div class=\"sk-text-repr-fallback\"><pre>XGBClassifier(base_score=None, booster=None, callbacks=None,\n              colsample_bylevel=None, colsample_bynode=None,\n              colsample_bytree=None, device=None, early_stopping_rounds=None,\n              enable_categorical=True, eval_metric=None, feature_types=None,\n              gamma=None, grow_policy=None, importance_type=None,\n              interaction_constraints=None, learning_rate=None, max_bin=None,\n              max_cat_threshold=None, max_cat_to_onehot=None,\n              max_delta_step=None, max_depth=None, max_leaves=None,\n              min_child_weight=None, missing=nan, monotone_constraints=None,\n              multi_strategy=None, n_estimators=None, n_jobs=None,\n              num_parallel_tree=None, random_state=None, ...)</pre><b>In a Jupyter environment, please rerun this cell to show the HTML representation or trust the notebook. <br />On GitHub, the HTML representation is unable to render, please try loading this page with nbviewer.org.</b></div><div class=\"sk-container\" hidden><div class=\"sk-item\"><div class=\"sk-estimator sk-toggleable\"><input class=\"sk-toggleable__control sk-hidden--visually\" id=\"sk-estimator-id-1\" type=\"checkbox\" checked><label for=\"sk-estimator-id-1\" class=\"sk-toggleable__label sk-toggleable__label-arrow\">XGBClassifier</label><div class=\"sk-toggleable__content\"><pre>XGBClassifier(base_score=None, booster=None, callbacks=None,\n              colsample_bylevel=None, colsample_bynode=None,\n              colsample_bytree=None, device=None, early_stopping_rounds=None,\n              enable_categorical=True, eval_metric=None, feature_types=None,\n              gamma=None, grow_policy=None, importance_type=None,\n              interaction_constraints=None, learning_rate=None, max_bin=None,\n              max_cat_threshold=None, max_cat_to_onehot=None,\n              max_delta_step=None, max_depth=None, max_leaves=None,\n              min_child_weight=None, missing=nan, monotone_constraints=None,\n              multi_strategy=None, n_estimators=None, n_jobs=None,\n              num_parallel_tree=None, random_state=None, ...)</pre></div></div></div></div></div>"
     },
     "execution_count": 17,
     "metadata": {},
     "output_type": "execute_result"
    }
   ],
   "source": [
    "from xgboost import XGBClassifier\n",
    "\n",
    "# Initialize XGBoost classifier\n",
    "model = XGBClassifier(enable_categorical=True, tree_method='hist')\n",
    "\n",
    "# Fit the model\n",
    "model.fit(X_train, y_train)"
   ],
   "metadata": {
    "collapsed": false,
    "ExecuteTime": {
     "end_time": "2023-12-12T20:34:38.600297Z",
     "start_time": "2023-12-12T20:34:38.164373Z"
    }
   },
   "id": "3ca89907787f61b9"
  },
  {
   "cell_type": "markdown",
   "source": [
    "### 2.5) Evaluación "
   ],
   "metadata": {
    "collapsed": false
   },
   "id": "3a656e1839c7e3a9"
  },
  {
   "cell_type": "code",
   "execution_count": 19,
   "outputs": [
    {
     "data": {
      "text/plain": "0.8707200982650084"
     },
     "execution_count": 19,
     "metadata": {},
     "output_type": "execute_result"
    }
   ],
   "source": [
    "from sklearn.metrics import accuracy_score\n",
    "\n",
    "y_predict = model.predict(X_test)\n",
    "\n",
    "score = accuracy_score(y_true= y_test , y_pred= y_predict)\n",
    "score"
   ],
   "metadata": {
    "collapsed": false,
    "ExecuteTime": {
     "end_time": "2023-12-12T20:44:59.549195Z",
     "start_time": "2023-12-12T20:44:59.529509Z"
    }
   },
   "id": "d5e94c810d6db9ba"
  },
  {
   "cell_type": "markdown",
   "source": [
    "## 3) Categorical Encoding Using One-Hot Encoding\n",
    "En este sección haremos nuevamente el entrenamiento del modelo. Sin embago trataremos directamente las variables categoricas con en encoding de one-hot-encoding.\n",
    "\n",
    "One-hot-encoding es un método popular para la tranformación de variables categoricas, genera columnas que representan cada categoría y le dan un valor binario si el registro pertenece o no a una categoría en particular. Este método es simple y efectivo. Sin embargo, tiene un gran problema y este es que puede aumentar significativamente la dimensionalidad de nuestro dataset"
   ],
   "metadata": {
    "collapsed": false
   },
   "id": "bee48045ea42f862"
  },
  {
   "cell_type": "code",
   "execution_count": 25,
   "outputs": [
    {
     "data": {
      "text/plain": "       age  workclass_1  workclass_2  workclass_3  workclass_4  workclass_5  \\\n0       90            1            0            0            0            0   \n1       82            0            1            0            0            0   \n2       66            1            0            0            0            0   \n3       54            0            1            0            0            0   \n4       41            0            1            0            0            0   \n...    ...          ...          ...          ...          ...          ...   \n32556   22            0            1            0            0            0   \n32557   27            0            1            0            0            0   \n32558   40            0            1            0            0            0   \n32559   58            0            1            0            0            0   \n32560   22            0            1            0            0            0   \n\n       workclass_6  workclass_7  workclass_8  workclass_9  ...  \\\n0                0            0            0            0  ...   \n1                0            0            0            0  ...   \n2                0            0            0            0  ...   \n3                0            0            0            0  ...   \n4                0            0            0            0  ...   \n...            ...          ...          ...          ...  ...   \n32556            0            0            0            0  ...   \n32557            0            0            0            0  ...   \n32558            0            0            0            0  ...   \n32559            0            0            0            0  ...   \n32560            0            0            0            0  ...   \n\n       native.country_34  native.country_35  native.country_36  \\\n0                      0                  0                  0   \n1                      0                  0                  0   \n2                      0                  0                  0   \n3                      0                  0                  0   \n4                      0                  0                  0   \n...                  ...                ...                ...   \n32556                  0                  0                  0   \n32557                  0                  0                  0   \n32558                  0                  0                  0   \n32559                  0                  0                  0   \n32560                  0                  0                  0   \n\n       native.country_37  native.country_38  native.country_39  \\\n0                      0                  0                  0   \n1                      0                  0                  0   \n2                      0                  0                  0   \n3                      0                  0                  0   \n4                      0                  0                  0   \n...                  ...                ...                ...   \n32556                  0                  0                  0   \n32557                  0                  0                  0   \n32558                  0                  0                  0   \n32559                  0                  0                  0   \n32560                  0                  0                  0   \n\n       native.country_40  native.country_41  native.country_42  income  \n0                      0                  0                  0   <=50K  \n1                      0                  0                  0   <=50K  \n2                      0                  0                  0   <=50K  \n3                      0                  0                  0   <=50K  \n4                      0                  0                  0   <=50K  \n...                  ...                ...                ...     ...  \n32556                  0                  0                  0   <=50K  \n32557                  0                  0                  0   <=50K  \n32558                  0                  0                  0    >50K  \n32559                  0                  0                  0   <=50K  \n32560                  0                  0                  0   <=50K  \n\n[32561 rows x 109 columns]",
      "text/html": "<div>\n<style scoped>\n    .dataframe tbody tr th:only-of-type {\n        vertical-align: middle;\n    }\n\n    .dataframe tbody tr th {\n        vertical-align: top;\n    }\n\n    .dataframe thead th {\n        text-align: right;\n    }\n</style>\n<table border=\"1\" class=\"dataframe\">\n  <thead>\n    <tr style=\"text-align: right;\">\n      <th></th>\n      <th>age</th>\n      <th>workclass_1</th>\n      <th>workclass_2</th>\n      <th>workclass_3</th>\n      <th>workclass_4</th>\n      <th>workclass_5</th>\n      <th>workclass_6</th>\n      <th>workclass_7</th>\n      <th>workclass_8</th>\n      <th>workclass_9</th>\n      <th>...</th>\n      <th>native.country_34</th>\n      <th>native.country_35</th>\n      <th>native.country_36</th>\n      <th>native.country_37</th>\n      <th>native.country_38</th>\n      <th>native.country_39</th>\n      <th>native.country_40</th>\n      <th>native.country_41</th>\n      <th>native.country_42</th>\n      <th>income</th>\n    </tr>\n  </thead>\n  <tbody>\n    <tr>\n      <th>0</th>\n      <td>90</td>\n      <td>1</td>\n      <td>0</td>\n      <td>0</td>\n      <td>0</td>\n      <td>0</td>\n      <td>0</td>\n      <td>0</td>\n      <td>0</td>\n      <td>0</td>\n      <td>...</td>\n      <td>0</td>\n      <td>0</td>\n      <td>0</td>\n      <td>0</td>\n      <td>0</td>\n      <td>0</td>\n      <td>0</td>\n      <td>0</td>\n      <td>0</td>\n      <td>&lt;=50K</td>\n    </tr>\n    <tr>\n      <th>1</th>\n      <td>82</td>\n      <td>0</td>\n      <td>1</td>\n      <td>0</td>\n      <td>0</td>\n      <td>0</td>\n      <td>0</td>\n      <td>0</td>\n      <td>0</td>\n      <td>0</td>\n      <td>...</td>\n      <td>0</td>\n      <td>0</td>\n      <td>0</td>\n      <td>0</td>\n      <td>0</td>\n      <td>0</td>\n      <td>0</td>\n      <td>0</td>\n      <td>0</td>\n      <td>&lt;=50K</td>\n    </tr>\n    <tr>\n      <th>2</th>\n      <td>66</td>\n      <td>1</td>\n      <td>0</td>\n      <td>0</td>\n      <td>0</td>\n      <td>0</td>\n      <td>0</td>\n      <td>0</td>\n      <td>0</td>\n      <td>0</td>\n      <td>...</td>\n      <td>0</td>\n      <td>0</td>\n      <td>0</td>\n      <td>0</td>\n      <td>0</td>\n      <td>0</td>\n      <td>0</td>\n      <td>0</td>\n      <td>0</td>\n      <td>&lt;=50K</td>\n    </tr>\n    <tr>\n      <th>3</th>\n      <td>54</td>\n      <td>0</td>\n      <td>1</td>\n      <td>0</td>\n      <td>0</td>\n      <td>0</td>\n      <td>0</td>\n      <td>0</td>\n      <td>0</td>\n      <td>0</td>\n      <td>...</td>\n      <td>0</td>\n      <td>0</td>\n      <td>0</td>\n      <td>0</td>\n      <td>0</td>\n      <td>0</td>\n      <td>0</td>\n      <td>0</td>\n      <td>0</td>\n      <td>&lt;=50K</td>\n    </tr>\n    <tr>\n      <th>4</th>\n      <td>41</td>\n      <td>0</td>\n      <td>1</td>\n      <td>0</td>\n      <td>0</td>\n      <td>0</td>\n      <td>0</td>\n      <td>0</td>\n      <td>0</td>\n      <td>0</td>\n      <td>...</td>\n      <td>0</td>\n      <td>0</td>\n      <td>0</td>\n      <td>0</td>\n      <td>0</td>\n      <td>0</td>\n      <td>0</td>\n      <td>0</td>\n      <td>0</td>\n      <td>&lt;=50K</td>\n    </tr>\n    <tr>\n      <th>...</th>\n      <td>...</td>\n      <td>...</td>\n      <td>...</td>\n      <td>...</td>\n      <td>...</td>\n      <td>...</td>\n      <td>...</td>\n      <td>...</td>\n      <td>...</td>\n      <td>...</td>\n      <td>...</td>\n      <td>...</td>\n      <td>...</td>\n      <td>...</td>\n      <td>...</td>\n      <td>...</td>\n      <td>...</td>\n      <td>...</td>\n      <td>...</td>\n      <td>...</td>\n      <td>...</td>\n    </tr>\n    <tr>\n      <th>32556</th>\n      <td>22</td>\n      <td>0</td>\n      <td>1</td>\n      <td>0</td>\n      <td>0</td>\n      <td>0</td>\n      <td>0</td>\n      <td>0</td>\n      <td>0</td>\n      <td>0</td>\n      <td>...</td>\n      <td>0</td>\n      <td>0</td>\n      <td>0</td>\n      <td>0</td>\n      <td>0</td>\n      <td>0</td>\n      <td>0</td>\n      <td>0</td>\n      <td>0</td>\n      <td>&lt;=50K</td>\n    </tr>\n    <tr>\n      <th>32557</th>\n      <td>27</td>\n      <td>0</td>\n      <td>1</td>\n      <td>0</td>\n      <td>0</td>\n      <td>0</td>\n      <td>0</td>\n      <td>0</td>\n      <td>0</td>\n      <td>0</td>\n      <td>...</td>\n      <td>0</td>\n      <td>0</td>\n      <td>0</td>\n      <td>0</td>\n      <td>0</td>\n      <td>0</td>\n      <td>0</td>\n      <td>0</td>\n      <td>0</td>\n      <td>&lt;=50K</td>\n    </tr>\n    <tr>\n      <th>32558</th>\n      <td>40</td>\n      <td>0</td>\n      <td>1</td>\n      <td>0</td>\n      <td>0</td>\n      <td>0</td>\n      <td>0</td>\n      <td>0</td>\n      <td>0</td>\n      <td>0</td>\n      <td>...</td>\n      <td>0</td>\n      <td>0</td>\n      <td>0</td>\n      <td>0</td>\n      <td>0</td>\n      <td>0</td>\n      <td>0</td>\n      <td>0</td>\n      <td>0</td>\n      <td>&gt;50K</td>\n    </tr>\n    <tr>\n      <th>32559</th>\n      <td>58</td>\n      <td>0</td>\n      <td>1</td>\n      <td>0</td>\n      <td>0</td>\n      <td>0</td>\n      <td>0</td>\n      <td>0</td>\n      <td>0</td>\n      <td>0</td>\n      <td>...</td>\n      <td>0</td>\n      <td>0</td>\n      <td>0</td>\n      <td>0</td>\n      <td>0</td>\n      <td>0</td>\n      <td>0</td>\n      <td>0</td>\n      <td>0</td>\n      <td>&lt;=50K</td>\n    </tr>\n    <tr>\n      <th>32560</th>\n      <td>22</td>\n      <td>0</td>\n      <td>1</td>\n      <td>0</td>\n      <td>0</td>\n      <td>0</td>\n      <td>0</td>\n      <td>0</td>\n      <td>0</td>\n      <td>0</td>\n      <td>...</td>\n      <td>0</td>\n      <td>0</td>\n      <td>0</td>\n      <td>0</td>\n      <td>0</td>\n      <td>0</td>\n      <td>0</td>\n      <td>0</td>\n      <td>0</td>\n      <td>&lt;=50K</td>\n    </tr>\n  </tbody>\n</table>\n<p>32561 rows × 109 columns</p>\n</div>"
     },
     "execution_count": 25,
     "metadata": {},
     "output_type": "execute_result"
    }
   ],
   "source": [
    "# Instala esta librería especializada en método de codigicación de variables categoricas \n",
    "# pip install category_encoders\n",
    "from category_encoders import OneHotEncoder\n",
    "\n",
    "# Initialize OneHotEncoder\n",
    "encoder = OneHotEncoder(cols=cat_cols)\n",
    "\n",
    "# Fit and transform the DataFrame\n",
    "df_encoded = encoder.fit_transform(adult_dataset)\n",
    "df_encoded"
   ],
   "metadata": {
    "collapsed": false,
    "ExecuteTime": {
     "end_time": "2023-12-12T21:04:17.546008Z",
     "start_time": "2023-12-12T21:04:17.302609Z"
    }
   },
   "id": "3ae96a7631ae9d9c"
  },
  {
   "cell_type": "markdown",
   "source": [
    "The best thing about this library is that it returns a DataFrame with both the original numerical columns and the new encoded columns, avoiding an extra step of concatenating the two DataFrames."
   ],
   "metadata": {
    "collapsed": false
   },
   "id": "52cb8d05ee610f77"
  },
  {
   "cell_type": "code",
   "execution_count": 27,
   "outputs": [
    {
     "data": {
      "text/plain": "       age  workclass_1  workclass_2  workclass_3  workclass_4  workclass_5  \\\n0       90            1            0            0            0            0   \n1       82            0            1            0            0            0   \n2       66            1            0            0            0            0   \n3       54            0            1            0            0            0   \n4       41            0            1            0            0            0   \n...    ...          ...          ...          ...          ...          ...   \n32556   22            0            1            0            0            0   \n32557   27            0            1            0            0            0   \n32558   40            0            1            0            0            0   \n32559   58            0            1            0            0            0   \n32560   22            0            1            0            0            0   \n\n       workclass_6  workclass_7  workclass_8  workclass_9  ...  \\\n0                0            0            0            0  ...   \n1                0            0            0            0  ...   \n2                0            0            0            0  ...   \n3                0            0            0            0  ...   \n4                0            0            0            0  ...   \n...            ...          ...          ...          ...  ...   \n32556            0            0            0            0  ...   \n32557            0            0            0            0  ...   \n32558            0            0            0            0  ...   \n32559            0            0            0            0  ...   \n32560            0            0            0            0  ...   \n\n       native.country_33  native.country_34  native.country_35  \\\n0                      0                  0                  0   \n1                      0                  0                  0   \n2                      0                  0                  0   \n3                      0                  0                  0   \n4                      0                  0                  0   \n...                  ...                ...                ...   \n32556                  0                  0                  0   \n32557                  0                  0                  0   \n32558                  0                  0                  0   \n32559                  0                  0                  0   \n32560                  0                  0                  0   \n\n       native.country_36  native.country_37  native.country_38  \\\n0                      0                  0                  0   \n1                      0                  0                  0   \n2                      0                  0                  0   \n3                      0                  0                  0   \n4                      0                  0                  0   \n...                  ...                ...                ...   \n32556                  0                  0                  0   \n32557                  0                  0                  0   \n32558                  0                  0                  0   \n32559                  0                  0                  0   \n32560                  0                  0                  0   \n\n       native.country_39  native.country_40  native.country_41  \\\n0                      0                  0                  0   \n1                      0                  0                  0   \n2                      0                  0                  0   \n3                      0                  0                  0   \n4                      0                  0                  0   \n...                  ...                ...                ...   \n32556                  0                  0                  0   \n32557                  0                  0                  0   \n32558                  0                  0                  0   \n32559                  0                  0                  0   \n32560                  0                  0                  0   \n\n       native.country_42  \n0                      0  \n1                      0  \n2                      0  \n3                      0  \n4                      0  \n...                  ...  \n32556                  0  \n32557                  0  \n32558                  0  \n32559                  0  \n32560                  0  \n\n[32561 rows x 108 columns]",
      "text/html": "<div>\n<style scoped>\n    .dataframe tbody tr th:only-of-type {\n        vertical-align: middle;\n    }\n\n    .dataframe tbody tr th {\n        vertical-align: top;\n    }\n\n    .dataframe thead th {\n        text-align: right;\n    }\n</style>\n<table border=\"1\" class=\"dataframe\">\n  <thead>\n    <tr style=\"text-align: right;\">\n      <th></th>\n      <th>age</th>\n      <th>workclass_1</th>\n      <th>workclass_2</th>\n      <th>workclass_3</th>\n      <th>workclass_4</th>\n      <th>workclass_5</th>\n      <th>workclass_6</th>\n      <th>workclass_7</th>\n      <th>workclass_8</th>\n      <th>workclass_9</th>\n      <th>...</th>\n      <th>native.country_33</th>\n      <th>native.country_34</th>\n      <th>native.country_35</th>\n      <th>native.country_36</th>\n      <th>native.country_37</th>\n      <th>native.country_38</th>\n      <th>native.country_39</th>\n      <th>native.country_40</th>\n      <th>native.country_41</th>\n      <th>native.country_42</th>\n    </tr>\n  </thead>\n  <tbody>\n    <tr>\n      <th>0</th>\n      <td>90</td>\n      <td>1</td>\n      <td>0</td>\n      <td>0</td>\n      <td>0</td>\n      <td>0</td>\n      <td>0</td>\n      <td>0</td>\n      <td>0</td>\n      <td>0</td>\n      <td>...</td>\n      <td>0</td>\n      <td>0</td>\n      <td>0</td>\n      <td>0</td>\n      <td>0</td>\n      <td>0</td>\n      <td>0</td>\n      <td>0</td>\n      <td>0</td>\n      <td>0</td>\n    </tr>\n    <tr>\n      <th>1</th>\n      <td>82</td>\n      <td>0</td>\n      <td>1</td>\n      <td>0</td>\n      <td>0</td>\n      <td>0</td>\n      <td>0</td>\n      <td>0</td>\n      <td>0</td>\n      <td>0</td>\n      <td>...</td>\n      <td>0</td>\n      <td>0</td>\n      <td>0</td>\n      <td>0</td>\n      <td>0</td>\n      <td>0</td>\n      <td>0</td>\n      <td>0</td>\n      <td>0</td>\n      <td>0</td>\n    </tr>\n    <tr>\n      <th>2</th>\n      <td>66</td>\n      <td>1</td>\n      <td>0</td>\n      <td>0</td>\n      <td>0</td>\n      <td>0</td>\n      <td>0</td>\n      <td>0</td>\n      <td>0</td>\n      <td>0</td>\n      <td>...</td>\n      <td>0</td>\n      <td>0</td>\n      <td>0</td>\n      <td>0</td>\n      <td>0</td>\n      <td>0</td>\n      <td>0</td>\n      <td>0</td>\n      <td>0</td>\n      <td>0</td>\n    </tr>\n    <tr>\n      <th>3</th>\n      <td>54</td>\n      <td>0</td>\n      <td>1</td>\n      <td>0</td>\n      <td>0</td>\n      <td>0</td>\n      <td>0</td>\n      <td>0</td>\n      <td>0</td>\n      <td>0</td>\n      <td>...</td>\n      <td>0</td>\n      <td>0</td>\n      <td>0</td>\n      <td>0</td>\n      <td>0</td>\n      <td>0</td>\n      <td>0</td>\n      <td>0</td>\n      <td>0</td>\n      <td>0</td>\n    </tr>\n    <tr>\n      <th>4</th>\n      <td>41</td>\n      <td>0</td>\n      <td>1</td>\n      <td>0</td>\n      <td>0</td>\n      <td>0</td>\n      <td>0</td>\n      <td>0</td>\n      <td>0</td>\n      <td>0</td>\n      <td>...</td>\n      <td>0</td>\n      <td>0</td>\n      <td>0</td>\n      <td>0</td>\n      <td>0</td>\n      <td>0</td>\n      <td>0</td>\n      <td>0</td>\n      <td>0</td>\n      <td>0</td>\n    </tr>\n    <tr>\n      <th>...</th>\n      <td>...</td>\n      <td>...</td>\n      <td>...</td>\n      <td>...</td>\n      <td>...</td>\n      <td>...</td>\n      <td>...</td>\n      <td>...</td>\n      <td>...</td>\n      <td>...</td>\n      <td>...</td>\n      <td>...</td>\n      <td>...</td>\n      <td>...</td>\n      <td>...</td>\n      <td>...</td>\n      <td>...</td>\n      <td>...</td>\n      <td>...</td>\n      <td>...</td>\n      <td>...</td>\n    </tr>\n    <tr>\n      <th>32556</th>\n      <td>22</td>\n      <td>0</td>\n      <td>1</td>\n      <td>0</td>\n      <td>0</td>\n      <td>0</td>\n      <td>0</td>\n      <td>0</td>\n      <td>0</td>\n      <td>0</td>\n      <td>...</td>\n      <td>0</td>\n      <td>0</td>\n      <td>0</td>\n      <td>0</td>\n      <td>0</td>\n      <td>0</td>\n      <td>0</td>\n      <td>0</td>\n      <td>0</td>\n      <td>0</td>\n    </tr>\n    <tr>\n      <th>32557</th>\n      <td>27</td>\n      <td>0</td>\n      <td>1</td>\n      <td>0</td>\n      <td>0</td>\n      <td>0</td>\n      <td>0</td>\n      <td>0</td>\n      <td>0</td>\n      <td>0</td>\n      <td>...</td>\n      <td>0</td>\n      <td>0</td>\n      <td>0</td>\n      <td>0</td>\n      <td>0</td>\n      <td>0</td>\n      <td>0</td>\n      <td>0</td>\n      <td>0</td>\n      <td>0</td>\n    </tr>\n    <tr>\n      <th>32558</th>\n      <td>40</td>\n      <td>0</td>\n      <td>1</td>\n      <td>0</td>\n      <td>0</td>\n      <td>0</td>\n      <td>0</td>\n      <td>0</td>\n      <td>0</td>\n      <td>0</td>\n      <td>...</td>\n      <td>0</td>\n      <td>0</td>\n      <td>0</td>\n      <td>0</td>\n      <td>0</td>\n      <td>0</td>\n      <td>0</td>\n      <td>0</td>\n      <td>0</td>\n      <td>0</td>\n    </tr>\n    <tr>\n      <th>32559</th>\n      <td>58</td>\n      <td>0</td>\n      <td>1</td>\n      <td>0</td>\n      <td>0</td>\n      <td>0</td>\n      <td>0</td>\n      <td>0</td>\n      <td>0</td>\n      <td>0</td>\n      <td>...</td>\n      <td>0</td>\n      <td>0</td>\n      <td>0</td>\n      <td>0</td>\n      <td>0</td>\n      <td>0</td>\n      <td>0</td>\n      <td>0</td>\n      <td>0</td>\n      <td>0</td>\n    </tr>\n    <tr>\n      <th>32560</th>\n      <td>22</td>\n      <td>0</td>\n      <td>1</td>\n      <td>0</td>\n      <td>0</td>\n      <td>0</td>\n      <td>0</td>\n      <td>0</td>\n      <td>0</td>\n      <td>0</td>\n      <td>...</td>\n      <td>0</td>\n      <td>0</td>\n      <td>0</td>\n      <td>0</td>\n      <td>0</td>\n      <td>0</td>\n      <td>0</td>\n      <td>0</td>\n      <td>0</td>\n      <td>0</td>\n    </tr>\n  </tbody>\n</table>\n<p>32561 rows × 108 columns</p>\n</div>"
     },
     "execution_count": 27,
     "metadata": {},
     "output_type": "execute_result"
    }
   ],
   "source": [
    "# Split into X and y, drop the target variable from X and convert y to binary\n",
    "y = df_encoded['income'].map(arg={'<=50K': 0, '>50K': 1}) # La funcion map sustituye valores, en este caso estamos sustituyendo los valores de <=50K por 0 y los valores de >50K por 1. \n",
    "\n",
    "X = df_encoded.drop('income', axis=1)\n",
    "X "
   ],
   "metadata": {
    "collapsed": false,
    "ExecuteTime": {
     "end_time": "2023-12-12T21:05:17.456837Z",
     "start_time": "2023-12-12T21:05:17.441302Z"
    }
   },
   "id": "f18cfb955f0f37ba"
  },
  {
   "cell_type": "code",
   "execution_count": 28,
   "outputs": [
    {
     "data": {
      "text/plain": "       age  workclass_1  workclass_2  workclass_3  workclass_4  workclass_5  \\\n5514    26            0            1            0            0            0   \n19777   24            0            1            0            0            0   \n10781   36            0            1            0            0            0   \n32240   22            0            0            1            0            0   \n9876    31            0            0            0            0            0   \n...    ...          ...          ...          ...          ...          ...   \n29802   25            0            1            0            0            0   \n5390    51            0            1            0            0            0   \n860     55            0            0            0            1            0   \n15795   41            0            1            0            0            0   \n23654   22            0            1            0            0            0   \n\n       workclass_6  workclass_7  workclass_8  workclass_9  ...  \\\n5514             0            0            0            0  ...   \n19777            0            0            0            0  ...   \n10781            0            0            0            0  ...   \n32240            0            0            0            0  ...   \n9876             0            1            0            0  ...   \n...            ...          ...          ...          ...  ...   \n29802            0            0            0            0  ...   \n5390             0            0            0            0  ...   \n860              0            0            0            0  ...   \n15795            0            0            0            0  ...   \n23654            0            0            0            0  ...   \n\n       native.country_33  native.country_34  native.country_35  \\\n5514                   0                  0                  0   \n19777                  0                  0                  0   \n10781                  0                  0                  0   \n32240                  0                  0                  0   \n9876                   0                  0                  0   \n...                  ...                ...                ...   \n29802                  0                  0                  0   \n5390                   0                  0                  0   \n860                    0                  0                  0   \n15795                  0                  0                  0   \n23654                  0                  0                  0   \n\n       native.country_36  native.country_37  native.country_38  \\\n5514                   0                  0                  0   \n19777                  0                  0                  0   \n10781                  0                  0                  0   \n32240                  0                  0                  0   \n9876                   0                  0                  0   \n...                  ...                ...                ...   \n29802                  0                  0                  0   \n5390                   0                  0                  0   \n860                    0                  0                  0   \n15795                  0                  0                  0   \n23654                  0                  0                  0   \n\n       native.country_39  native.country_40  native.country_41  \\\n5514                   0                  0                  0   \n19777                  0                  0                  0   \n10781                  0                  0                  0   \n32240                  0                  0                  0   \n9876                   0                  0                  0   \n...                  ...                ...                ...   \n29802                  0                  0                  0   \n5390                   0                  0                  0   \n860                    0                  0                  0   \n15795                  0                  0                  0   \n23654                  1                  0                  0   \n\n       native.country_42  \n5514                   0  \n19777                  0  \n10781                  0  \n32240                  0  \n9876                   0  \n...                  ...  \n29802                  0  \n5390                   0  \n860                    0  \n15795                  0  \n23654                  0  \n\n[26048 rows x 108 columns]",
      "text/html": "<div>\n<style scoped>\n    .dataframe tbody tr th:only-of-type {\n        vertical-align: middle;\n    }\n\n    .dataframe tbody tr th {\n        vertical-align: top;\n    }\n\n    .dataframe thead th {\n        text-align: right;\n    }\n</style>\n<table border=\"1\" class=\"dataframe\">\n  <thead>\n    <tr style=\"text-align: right;\">\n      <th></th>\n      <th>age</th>\n      <th>workclass_1</th>\n      <th>workclass_2</th>\n      <th>workclass_3</th>\n      <th>workclass_4</th>\n      <th>workclass_5</th>\n      <th>workclass_6</th>\n      <th>workclass_7</th>\n      <th>workclass_8</th>\n      <th>workclass_9</th>\n      <th>...</th>\n      <th>native.country_33</th>\n      <th>native.country_34</th>\n      <th>native.country_35</th>\n      <th>native.country_36</th>\n      <th>native.country_37</th>\n      <th>native.country_38</th>\n      <th>native.country_39</th>\n      <th>native.country_40</th>\n      <th>native.country_41</th>\n      <th>native.country_42</th>\n    </tr>\n  </thead>\n  <tbody>\n    <tr>\n      <th>5514</th>\n      <td>26</td>\n      <td>0</td>\n      <td>1</td>\n      <td>0</td>\n      <td>0</td>\n      <td>0</td>\n      <td>0</td>\n      <td>0</td>\n      <td>0</td>\n      <td>0</td>\n      <td>...</td>\n      <td>0</td>\n      <td>0</td>\n      <td>0</td>\n      <td>0</td>\n      <td>0</td>\n      <td>0</td>\n      <td>0</td>\n      <td>0</td>\n      <td>0</td>\n      <td>0</td>\n    </tr>\n    <tr>\n      <th>19777</th>\n      <td>24</td>\n      <td>0</td>\n      <td>1</td>\n      <td>0</td>\n      <td>0</td>\n      <td>0</td>\n      <td>0</td>\n      <td>0</td>\n      <td>0</td>\n      <td>0</td>\n      <td>...</td>\n      <td>0</td>\n      <td>0</td>\n      <td>0</td>\n      <td>0</td>\n      <td>0</td>\n      <td>0</td>\n      <td>0</td>\n      <td>0</td>\n      <td>0</td>\n      <td>0</td>\n    </tr>\n    <tr>\n      <th>10781</th>\n      <td>36</td>\n      <td>0</td>\n      <td>1</td>\n      <td>0</td>\n      <td>0</td>\n      <td>0</td>\n      <td>0</td>\n      <td>0</td>\n      <td>0</td>\n      <td>0</td>\n      <td>...</td>\n      <td>0</td>\n      <td>0</td>\n      <td>0</td>\n      <td>0</td>\n      <td>0</td>\n      <td>0</td>\n      <td>0</td>\n      <td>0</td>\n      <td>0</td>\n      <td>0</td>\n    </tr>\n    <tr>\n      <th>32240</th>\n      <td>22</td>\n      <td>0</td>\n      <td>0</td>\n      <td>1</td>\n      <td>0</td>\n      <td>0</td>\n      <td>0</td>\n      <td>0</td>\n      <td>0</td>\n      <td>0</td>\n      <td>...</td>\n      <td>0</td>\n      <td>0</td>\n      <td>0</td>\n      <td>0</td>\n      <td>0</td>\n      <td>0</td>\n      <td>0</td>\n      <td>0</td>\n      <td>0</td>\n      <td>0</td>\n    </tr>\n    <tr>\n      <th>9876</th>\n      <td>31</td>\n      <td>0</td>\n      <td>0</td>\n      <td>0</td>\n      <td>0</td>\n      <td>0</td>\n      <td>0</td>\n      <td>1</td>\n      <td>0</td>\n      <td>0</td>\n      <td>...</td>\n      <td>0</td>\n      <td>0</td>\n      <td>0</td>\n      <td>0</td>\n      <td>0</td>\n      <td>0</td>\n      <td>0</td>\n      <td>0</td>\n      <td>0</td>\n      <td>0</td>\n    </tr>\n    <tr>\n      <th>...</th>\n      <td>...</td>\n      <td>...</td>\n      <td>...</td>\n      <td>...</td>\n      <td>...</td>\n      <td>...</td>\n      <td>...</td>\n      <td>...</td>\n      <td>...</td>\n      <td>...</td>\n      <td>...</td>\n      <td>...</td>\n      <td>...</td>\n      <td>...</td>\n      <td>...</td>\n      <td>...</td>\n      <td>...</td>\n      <td>...</td>\n      <td>...</td>\n      <td>...</td>\n      <td>...</td>\n    </tr>\n    <tr>\n      <th>29802</th>\n      <td>25</td>\n      <td>0</td>\n      <td>1</td>\n      <td>0</td>\n      <td>0</td>\n      <td>0</td>\n      <td>0</td>\n      <td>0</td>\n      <td>0</td>\n      <td>0</td>\n      <td>...</td>\n      <td>0</td>\n      <td>0</td>\n      <td>0</td>\n      <td>0</td>\n      <td>0</td>\n      <td>0</td>\n      <td>0</td>\n      <td>0</td>\n      <td>0</td>\n      <td>0</td>\n    </tr>\n    <tr>\n      <th>5390</th>\n      <td>51</td>\n      <td>0</td>\n      <td>1</td>\n      <td>0</td>\n      <td>0</td>\n      <td>0</td>\n      <td>0</td>\n      <td>0</td>\n      <td>0</td>\n      <td>0</td>\n      <td>...</td>\n      <td>0</td>\n      <td>0</td>\n      <td>0</td>\n      <td>0</td>\n      <td>0</td>\n      <td>0</td>\n      <td>0</td>\n      <td>0</td>\n      <td>0</td>\n      <td>0</td>\n    </tr>\n    <tr>\n      <th>860</th>\n      <td>55</td>\n      <td>0</td>\n      <td>0</td>\n      <td>0</td>\n      <td>1</td>\n      <td>0</td>\n      <td>0</td>\n      <td>0</td>\n      <td>0</td>\n      <td>0</td>\n      <td>...</td>\n      <td>0</td>\n      <td>0</td>\n      <td>0</td>\n      <td>0</td>\n      <td>0</td>\n      <td>0</td>\n      <td>0</td>\n      <td>0</td>\n      <td>0</td>\n      <td>0</td>\n    </tr>\n    <tr>\n      <th>15795</th>\n      <td>41</td>\n      <td>0</td>\n      <td>1</td>\n      <td>0</td>\n      <td>0</td>\n      <td>0</td>\n      <td>0</td>\n      <td>0</td>\n      <td>0</td>\n      <td>0</td>\n      <td>...</td>\n      <td>0</td>\n      <td>0</td>\n      <td>0</td>\n      <td>0</td>\n      <td>0</td>\n      <td>0</td>\n      <td>0</td>\n      <td>0</td>\n      <td>0</td>\n      <td>0</td>\n    </tr>\n    <tr>\n      <th>23654</th>\n      <td>22</td>\n      <td>0</td>\n      <td>1</td>\n      <td>0</td>\n      <td>0</td>\n      <td>0</td>\n      <td>0</td>\n      <td>0</td>\n      <td>0</td>\n      <td>0</td>\n      <td>...</td>\n      <td>0</td>\n      <td>0</td>\n      <td>0</td>\n      <td>0</td>\n      <td>0</td>\n      <td>0</td>\n      <td>1</td>\n      <td>0</td>\n      <td>0</td>\n      <td>0</td>\n    </tr>\n  </tbody>\n</table>\n<p>26048 rows × 108 columns</p>\n</div>"
     },
     "execution_count": 28,
     "metadata": {},
     "output_type": "execute_result"
    }
   ],
   "source": [
    "X_train, X_test, y_train, y_test = train_test_split(X, y, test_size=0.2, random_state=42)\n",
    "X_train"
   ],
   "metadata": {
    "collapsed": false,
    "ExecuteTime": {
     "end_time": "2023-12-12T21:05:21.485480Z",
     "start_time": "2023-12-12T21:05:21.449515Z"
    }
   },
   "id": "fc0112ada7f6d20a"
  },
  {
   "cell_type": "code",
   "execution_count": 30,
   "outputs": [
    {
     "data": {
      "text/plain": "XGBClassifier(base_score=None, booster=None, callbacks=None,\n              colsample_bylevel=None, colsample_bynode=None,\n              colsample_bytree=None, device=None, early_stopping_rounds=None,\n              enable_categorical=False, eval_metric=None, feature_types=None,\n              gamma=None, grow_policy=None, importance_type=None,\n              interaction_constraints=None, learning_rate=None, max_bin=None,\n              max_cat_threshold=None, max_cat_to_onehot=None,\n              max_delta_step=None, max_depth=None, max_leaves=None,\n              min_child_weight=None, missing=nan, monotone_constraints=None,\n              multi_strategy=None, n_estimators=None, n_jobs=None,\n              num_parallel_tree=None, random_state=None, ...)",
      "text/html": "<style>#sk-container-id-3 {color: black;}#sk-container-id-3 pre{padding: 0;}#sk-container-id-3 div.sk-toggleable {background-color: white;}#sk-container-id-3 label.sk-toggleable__label {cursor: pointer;display: block;width: 100%;margin-bottom: 0;padding: 0.3em;box-sizing: border-box;text-align: center;}#sk-container-id-3 label.sk-toggleable__label-arrow:before {content: \"▸\";float: left;margin-right: 0.25em;color: #696969;}#sk-container-id-3 label.sk-toggleable__label-arrow:hover:before {color: black;}#sk-container-id-3 div.sk-estimator:hover label.sk-toggleable__label-arrow:before {color: black;}#sk-container-id-3 div.sk-toggleable__content {max-height: 0;max-width: 0;overflow: hidden;text-align: left;background-color: #f0f8ff;}#sk-container-id-3 div.sk-toggleable__content pre {margin: 0.2em;color: black;border-radius: 0.25em;background-color: #f0f8ff;}#sk-container-id-3 input.sk-toggleable__control:checked~div.sk-toggleable__content {max-height: 200px;max-width: 100%;overflow: auto;}#sk-container-id-3 input.sk-toggleable__control:checked~label.sk-toggleable__label-arrow:before {content: \"▾\";}#sk-container-id-3 div.sk-estimator input.sk-toggleable__control:checked~label.sk-toggleable__label {background-color: #d4ebff;}#sk-container-id-3 div.sk-label input.sk-toggleable__control:checked~label.sk-toggleable__label {background-color: #d4ebff;}#sk-container-id-3 input.sk-hidden--visually {border: 0;clip: rect(1px 1px 1px 1px);clip: rect(1px, 1px, 1px, 1px);height: 1px;margin: -1px;overflow: hidden;padding: 0;position: absolute;width: 1px;}#sk-container-id-3 div.sk-estimator {font-family: monospace;background-color: #f0f8ff;border: 1px dotted black;border-radius: 0.25em;box-sizing: border-box;margin-bottom: 0.5em;}#sk-container-id-3 div.sk-estimator:hover {background-color: #d4ebff;}#sk-container-id-3 div.sk-parallel-item::after {content: \"\";width: 100%;border-bottom: 1px solid gray;flex-grow: 1;}#sk-container-id-3 div.sk-label:hover label.sk-toggleable__label {background-color: #d4ebff;}#sk-container-id-3 div.sk-serial::before {content: \"\";position: absolute;border-left: 1px solid gray;box-sizing: border-box;top: 0;bottom: 0;left: 50%;z-index: 0;}#sk-container-id-3 div.sk-serial {display: flex;flex-direction: column;align-items: center;background-color: white;padding-right: 0.2em;padding-left: 0.2em;position: relative;}#sk-container-id-3 div.sk-item {position: relative;z-index: 1;}#sk-container-id-3 div.sk-parallel {display: flex;align-items: stretch;justify-content: center;background-color: white;position: relative;}#sk-container-id-3 div.sk-item::before, #sk-container-id-3 div.sk-parallel-item::before {content: \"\";position: absolute;border-left: 1px solid gray;box-sizing: border-box;top: 0;bottom: 0;left: 50%;z-index: -1;}#sk-container-id-3 div.sk-parallel-item {display: flex;flex-direction: column;z-index: 1;position: relative;background-color: white;}#sk-container-id-3 div.sk-parallel-item:first-child::after {align-self: flex-end;width: 50%;}#sk-container-id-3 div.sk-parallel-item:last-child::after {align-self: flex-start;width: 50%;}#sk-container-id-3 div.sk-parallel-item:only-child::after {width: 0;}#sk-container-id-3 div.sk-dashed-wrapped {border: 1px dashed gray;margin: 0 0.4em 0.5em 0.4em;box-sizing: border-box;padding-bottom: 0.4em;background-color: white;}#sk-container-id-3 div.sk-label label {font-family: monospace;font-weight: bold;display: inline-block;line-height: 1.2em;}#sk-container-id-3 div.sk-label-container {text-align: center;}#sk-container-id-3 div.sk-container {/* jupyter's `normalize.less` sets `[hidden] { display: none; }` but bootstrap.min.css set `[hidden] { display: none !important; }` so we also need the `!important` here to be able to override the default hidden behavior on the sphinx rendered scikit-learn.org. See: https://github.com/scikit-learn/scikit-learn/issues/21755 */display: inline-block !important;position: relative;}#sk-container-id-3 div.sk-text-repr-fallback {display: none;}</style><div id=\"sk-container-id-3\" class=\"sk-top-container\"><div class=\"sk-text-repr-fallback\"><pre>XGBClassifier(base_score=None, booster=None, callbacks=None,\n              colsample_bylevel=None, colsample_bynode=None,\n              colsample_bytree=None, device=None, early_stopping_rounds=None,\n              enable_categorical=False, eval_metric=None, feature_types=None,\n              gamma=None, grow_policy=None, importance_type=None,\n              interaction_constraints=None, learning_rate=None, max_bin=None,\n              max_cat_threshold=None, max_cat_to_onehot=None,\n              max_delta_step=None, max_depth=None, max_leaves=None,\n              min_child_weight=None, missing=nan, monotone_constraints=None,\n              multi_strategy=None, n_estimators=None, n_jobs=None,\n              num_parallel_tree=None, random_state=None, ...)</pre><b>In a Jupyter environment, please rerun this cell to show the HTML representation or trust the notebook. <br />On GitHub, the HTML representation is unable to render, please try loading this page with nbviewer.org.</b></div><div class=\"sk-container\" hidden><div class=\"sk-item\"><div class=\"sk-estimator sk-toggleable\"><input class=\"sk-toggleable__control sk-hidden--visually\" id=\"sk-estimator-id-3\" type=\"checkbox\" checked><label for=\"sk-estimator-id-3\" class=\"sk-toggleable__label sk-toggleable__label-arrow\">XGBClassifier</label><div class=\"sk-toggleable__content\"><pre>XGBClassifier(base_score=None, booster=None, callbacks=None,\n              colsample_bylevel=None, colsample_bynode=None,\n              colsample_bytree=None, device=None, early_stopping_rounds=None,\n              enable_categorical=False, eval_metric=None, feature_types=None,\n              gamma=None, grow_policy=None, importance_type=None,\n              interaction_constraints=None, learning_rate=None, max_bin=None,\n              max_cat_threshold=None, max_cat_to_onehot=None,\n              max_delta_step=None, max_depth=None, max_leaves=None,\n              min_child_weight=None, missing=nan, monotone_constraints=None,\n              multi_strategy=None, n_estimators=None, n_jobs=None,\n              num_parallel_tree=None, random_state=None, ...)</pre></div></div></div></div></div>"
     },
     "execution_count": 30,
     "metadata": {},
     "output_type": "execute_result"
    }
   ],
   "source": [
    "# Initialize XGBoost classifier\n",
    "model = XGBClassifier(enable_categorical=False, tree_method='hist')\n",
    "\n",
    "# Fit the model\n",
    "model.fit(X_train, y_train)"
   ],
   "metadata": {
    "collapsed": false,
    "ExecuteTime": {
     "end_time": "2023-12-12T21:09:57.151480Z",
     "start_time": "2023-12-12T21:09:56.946380Z"
    }
   },
   "id": "4139dd8231873390"
  },
  {
   "cell_type": "code",
   "execution_count": 31,
   "outputs": [
    {
     "data": {
      "text/plain": "0.8702594810379242"
     },
     "execution_count": 31,
     "metadata": {},
     "output_type": "execute_result"
    }
   ],
   "source": [
    "from sklearn.metrics import accuracy_score\n",
    "\n",
    "y_predict = model.predict(X_test)\n",
    "\n",
    "score = accuracy_score(y_true= y_test , y_pred= y_predict)\n",
    "score"
   ],
   "metadata": {
    "collapsed": false,
    "ExecuteTime": {
     "end_time": "2023-12-12T21:10:10.613316Z",
     "start_time": "2023-12-12T21:10:10.596172Z"
    }
   },
   "id": "ae989c32bcf357db"
  },
  {
   "cell_type": "code",
   "execution_count": null,
   "outputs": [],
   "source": [],
   "metadata": {
    "collapsed": false
   },
   "id": "ac6532dac6f3b416"
  },
  {
   "cell_type": "code",
   "execution_count": null,
   "outputs": [],
   "source": [],
   "metadata": {
    "collapsed": false
   },
   "id": "b2a0dd4cb974d697"
  },
  {
   "cell_type": "code",
   "execution_count": 21,
   "outputs": [
    {
     "data": {
      "text/plain": "<5x5 sparse matrix of type '<class 'numpy.float64'>'\n\twith 5 stored elements in Compressed Sparse Row format>"
     },
     "execution_count": 21,
     "metadata": {},
     "output_type": "execute_result"
    }
   ],
   "source": [
    "import pandas as pd\n",
    "from sklearn.preprocessing import OneHotEncoder\n",
    "\n",
    "# Crear un DataFrame de ejemplo con dos variables numéricas y una categórica\n",
    "data = pd.DataFrame({\n",
    "    'Edad': [25, 30, 35, 40, 45],\n",
    "    'Ingresos': [50000, 60000, 75000, 80000, 90000],\n",
    "    'Ciudad': ['Nueva York', 'Los Ángeles', 'Chicago', 'San Francisco', 'Miami']\n",
    "})\n",
    "\n",
    "# Crear una instancia de OneHotEncoder\n",
    "encoder = OneHotEncoder()\n",
    "\n",
    "# Ajustar y transformar los datos\n",
    "one_hot_encoded = encoder.fit_transform(data[['Ciudad']])\n",
    "\n",
    "one_hot_encoded"
   ],
   "metadata": {
    "collapsed": false,
    "ExecuteTime": {
     "end_time": "2023-12-12T20:51:31.498490Z",
     "start_time": "2023-12-12T20:51:31.496383Z"
    }
   },
   "id": "b70ba14979fabc56"
  },
  {
   "cell_type": "code",
   "execution_count": 22,
   "outputs": [
    {
     "data": {
      "text/plain": "   Ciudad_Chicago  Ciudad_Los Ángeles  Ciudad_Miami  Ciudad_Nueva York  \\\n0             0.0                 0.0           0.0                1.0   \n1             0.0                 1.0           0.0                0.0   \n2             1.0                 0.0           0.0                0.0   \n3             0.0                 0.0           0.0                0.0   \n4             0.0                 0.0           1.0                0.0   \n\n   Ciudad_San Francisco  \n0                   0.0  \n1                   0.0  \n2                   0.0  \n3                   1.0  \n4                   0.0  ",
      "text/html": "<div>\n<style scoped>\n    .dataframe tbody tr th:only-of-type {\n        vertical-align: middle;\n    }\n\n    .dataframe tbody tr th {\n        vertical-align: top;\n    }\n\n    .dataframe thead th {\n        text-align: right;\n    }\n</style>\n<table border=\"1\" class=\"dataframe\">\n  <thead>\n    <tr style=\"text-align: right;\">\n      <th></th>\n      <th>Ciudad_Chicago</th>\n      <th>Ciudad_Los Ángeles</th>\n      <th>Ciudad_Miami</th>\n      <th>Ciudad_Nueva York</th>\n      <th>Ciudad_San Francisco</th>\n    </tr>\n  </thead>\n  <tbody>\n    <tr>\n      <th>0</th>\n      <td>0.0</td>\n      <td>0.0</td>\n      <td>0.0</td>\n      <td>1.0</td>\n      <td>0.0</td>\n    </tr>\n    <tr>\n      <th>1</th>\n      <td>0.0</td>\n      <td>1.0</td>\n      <td>0.0</td>\n      <td>0.0</td>\n      <td>0.0</td>\n    </tr>\n    <tr>\n      <th>2</th>\n      <td>1.0</td>\n      <td>0.0</td>\n      <td>0.0</td>\n      <td>0.0</td>\n      <td>0.0</td>\n    </tr>\n    <tr>\n      <th>3</th>\n      <td>0.0</td>\n      <td>0.0</td>\n      <td>0.0</td>\n      <td>0.0</td>\n      <td>1.0</td>\n    </tr>\n    <tr>\n      <th>4</th>\n      <td>0.0</td>\n      <td>0.0</td>\n      <td>1.0</td>\n      <td>0.0</td>\n      <td>0.0</td>\n    </tr>\n  </tbody>\n</table>\n</div>"
     },
     "execution_count": 22,
     "metadata": {},
     "output_type": "execute_result"
    }
   ],
   "source": [
    "# La salida es una matriz dispersa (sparse matrix) de tipo CSR (Compressed Sparse Row)\n",
    "# Puedes convertirla en un DataFrame si lo deseas\n",
    "one_hot_encoded_df = pd.DataFrame(one_hot_encoded.toarray(), columns=encoder.get_feature_names_out(['Ciudad']))\n",
    "one_hot_encoded_df"
   ],
   "metadata": {
    "collapsed": false,
    "ExecuteTime": {
     "end_time": "2023-12-12T20:51:47.724241Z",
     "start_time": "2023-12-12T20:51:47.719896Z"
    }
   },
   "id": "8bcfb0cbe6a4b779"
  },
  {
   "cell_type": "code",
   "execution_count": 23,
   "outputs": [
    {
     "data": {
      "text/plain": "   Edad  Ingresos  Ciudad_Chicago  Ciudad_Los Ángeles  Ciudad_Miami  \\\n0    25     50000             0.0                 0.0           0.0   \n1    30     60000             0.0                 1.0           0.0   \n2    35     75000             1.0                 0.0           0.0   \n3    40     80000             0.0                 0.0           0.0   \n4    45     90000             0.0                 0.0           1.0   \n\n   Ciudad_Nueva York  Ciudad_San Francisco  \n0                1.0                   0.0  \n1                0.0                   0.0  \n2                0.0                   0.0  \n3                0.0                   1.0  \n4                0.0                   0.0  ",
      "text/html": "<div>\n<style scoped>\n    .dataframe tbody tr th:only-of-type {\n        vertical-align: middle;\n    }\n\n    .dataframe tbody tr th {\n        vertical-align: top;\n    }\n\n    .dataframe thead th {\n        text-align: right;\n    }\n</style>\n<table border=\"1\" class=\"dataframe\">\n  <thead>\n    <tr style=\"text-align: right;\">\n      <th></th>\n      <th>Edad</th>\n      <th>Ingresos</th>\n      <th>Ciudad_Chicago</th>\n      <th>Ciudad_Los Ángeles</th>\n      <th>Ciudad_Miami</th>\n      <th>Ciudad_Nueva York</th>\n      <th>Ciudad_San Francisco</th>\n    </tr>\n  </thead>\n  <tbody>\n    <tr>\n      <th>0</th>\n      <td>25</td>\n      <td>50000</td>\n      <td>0.0</td>\n      <td>0.0</td>\n      <td>0.0</td>\n      <td>1.0</td>\n      <td>0.0</td>\n    </tr>\n    <tr>\n      <th>1</th>\n      <td>30</td>\n      <td>60000</td>\n      <td>0.0</td>\n      <td>1.0</td>\n      <td>0.0</td>\n      <td>0.0</td>\n      <td>0.0</td>\n    </tr>\n    <tr>\n      <th>2</th>\n      <td>35</td>\n      <td>75000</td>\n      <td>1.0</td>\n      <td>0.0</td>\n      <td>0.0</td>\n      <td>0.0</td>\n      <td>0.0</td>\n    </tr>\n    <tr>\n      <th>3</th>\n      <td>40</td>\n      <td>80000</td>\n      <td>0.0</td>\n      <td>0.0</td>\n      <td>0.0</td>\n      <td>0.0</td>\n      <td>1.0</td>\n    </tr>\n    <tr>\n      <th>4</th>\n      <td>45</td>\n      <td>90000</td>\n      <td>0.0</td>\n      <td>0.0</td>\n      <td>1.0</td>\n      <td>0.0</td>\n      <td>0.0</td>\n    </tr>\n  </tbody>\n</table>\n</div>"
     },
     "execution_count": 23,
     "metadata": {},
     "output_type": "execute_result"
    }
   ],
   "source": [
    "# Combinar las variables numéricas y las codificadas one-hot en un solo DataFrame\n",
    "encoded_data = pd.concat([data[['Edad', 'Ingresos']], one_hot_encoded_df], axis=1)\n",
    "encoded_data"
   ],
   "metadata": {
    "collapsed": false,
    "ExecuteTime": {
     "end_time": "2023-12-12T20:52:01.821366Z",
     "start_time": "2023-12-12T20:52:01.818780Z"
    }
   },
   "id": "b20de31506ceb81e"
  },
  {
   "cell_type": "code",
   "execution_count": null,
   "outputs": [],
   "source": [
    "\n",
    "\n",
    "# Resultado\n",
    "print(encoded_data)"
   ],
   "metadata": {
    "collapsed": false
   },
   "id": "cef8c354a99852d2"
  },
  {
   "cell_type": "code",
   "execution_count": null,
   "outputs": [],
   "source": [],
   "metadata": {
    "collapsed": false
   },
   "id": "ecb4f5d284fffad4"
  }
 ],
 "metadata": {
  "kernelspec": {
   "display_name": "Python 3",
   "language": "python",
   "name": "python3"
  },
  "language_info": {
   "codemirror_mode": {
    "name": "ipython",
    "version": 2
   },
   "file_extension": ".py",
   "mimetype": "text/x-python",
   "name": "python",
   "nbconvert_exporter": "python",
   "pygments_lexer": "ipython2",
   "version": "2.7.6"
  }
 },
 "nbformat": 4,
 "nbformat_minor": 5
}
